{
 "cells": [
  {
   "cell_type": "code",
   "execution_count": 3,
   "metadata": {},
   "outputs": [
    {
     "ename": "SyntaxError",
     "evalue": "invalid character in identifier (<ipython-input-3-fbbc75d3f5fc>, line 1)",
     "output_type": "error",
     "traceback": [
      "\u001b[1;36m  File \u001b[1;32m\"<ipython-input-3-fbbc75d3f5fc>\"\u001b[1;36m, line \u001b[1;32m1\u001b[0m\n\u001b[1;33m    dict={'爸爸':20，\"小明\":24,\"妈妈\":69}\u001b[0m\n\u001b[1;37m                 ^\u001b[0m\n\u001b[1;31mSyntaxError\u001b[0m\u001b[1;31m:\u001b[0m invalid character in identifier\n"
     ]
    }
   ],
   "source": [
    "dict={'爸爸':20,\"小明\":24,\"妈妈\":69}"
   ]
  },
  {
   "cell_type": "code",
   "execution_count": 4,
   "metadata": {},
   "outputs": [],
   "source": [
    "dict={'爸爸':20,\"小明\":24,\"妈妈\":69}"
   ]
  },
  {
   "cell_type": "code",
   "execution_count": 5,
   "metadata": {},
   "outputs": [
    {
     "name": "stdout",
     "output_type": "stream",
     "text": [
      "{'爸爸': 20, '小明': 24, '妈妈': 69} <class 'dict'>\n"
     ]
    }
   ],
   "source": [
    "print(dict,type(dict))"
   ]
  },
  {
   "cell_type": "markdown",
   "metadata": {},
   "source": [
    "备注:在写字典的时候，一定需要注意的是不能用错中文来写了，不然就会出现我刚刚发现的那种不可毁灭性的错误！在编写代码的时候，同时需要注意，键是唯一的，而值却可以不是唯一的。这是字典当中的一个重要概念了。"
   ]
  },
  {
   "cell_type": "code",
   "execution_count": 7,
   "metadata": {},
   "outputs": [
    {
     "data": {
      "text/plain": [
       "20"
      ]
     },
     "execution_count": 7,
     "metadata": {},
     "output_type": "execute_result"
    }
   ],
   "source": [
    "dict['爸爸']#这里用到的则是个索引了，索引都是在后面跟的中括号"
   ]
  },
  {
   "cell_type": "markdown",
   "metadata": {},
   "source": [
    "下面展示字典的删除，修改与增添"
   ]
  },
  {
   "cell_type": "code",
   "execution_count": 8,
   "metadata": {},
   "outputs": [],
   "source": [
    "dict[(1,2,3)]=13#这里将元组定义为了一个key，因为key可以为任何不变量，而value却可以为可变量"
   ]
  },
  {
   "cell_type": "code",
   "execution_count": 9,
   "metadata": {},
   "outputs": [
    {
     "data": {
      "text/plain": [
       "13"
      ]
     },
     "execution_count": 9,
     "metadata": {},
     "output_type": "execute_result"
    }
   ],
   "source": [
    "dict[(1,2,3)]"
   ]
  },
  {
   "cell_type": "code",
   "execution_count": 10,
   "metadata": {},
   "outputs": [
    {
     "data": {
      "text/plain": [
       "{'爸爸': 20, '小明': 24, '妈妈': 69, (1, 2, 3): 13}"
      ]
     },
     "execution_count": 10,
     "metadata": {},
     "output_type": "execute_result"
    }
   ],
   "source": [
    "dict"
   ]
  },
  {
   "cell_type": "code",
   "execution_count": 11,
   "metadata": {},
   "outputs": [],
   "source": [
    "del dict['妈妈']"
   ]
  },
  {
   "cell_type": "code",
   "execution_count": 12,
   "metadata": {},
   "outputs": [
    {
     "data": {
      "text/plain": [
       "{'爸爸': 20, '小明': 24, (1, 2, 3): 13}"
      ]
     },
     "execution_count": 12,
     "metadata": {},
     "output_type": "execute_result"
    }
   ],
   "source": [
    "dict"
   ]
  },
  {
   "cell_type": "code",
   "execution_count": 13,
   "metadata": {},
   "outputs": [],
   "source": [
    "dict[(1,2,3)]=\"我是傻子\""
   ]
  },
  {
   "cell_type": "code",
   "execution_count": 14,
   "metadata": {},
   "outputs": [
    {
     "data": {
      "text/plain": [
       "{'爸爸': 20, '小明': 24, (1, 2, 3): '我是傻子'}"
      ]
     },
     "execution_count": 14,
     "metadata": {},
     "output_type": "execute_result"
    }
   ],
   "source": [
    "dict"
   ]
  },
  {
   "cell_type": "code",
   "execution_count": 16,
   "metadata": {},
   "outputs": [
    {
     "name": "stdout",
     "output_type": "stream",
     "text": [
      "{'爸爸': 20, '小明': 24, (1, 2, 3): '我是傻子', 'age': 19}\n"
     ]
    }
   ],
   "source": [
    "for i in range(20):\n",
    "    dict[\"age\"]=i\n",
    "print(dict)"
   ]
  },
  {
   "cell_type": "code",
   "execution_count": 21,
   "metadata": {},
   "outputs": [
    {
     "name": "stdout",
     "output_type": "stream",
     "text": [
      "[{'name': 0}, {'name': 1}, {'name': 2}, {'name': 3}, {'name': 4}, {'name': 5}, {'name': 6}, {'name': 7}, {'name': 8}, {'name': 9}, {'name': 10}, {'name': 11}, {'name': 12}, {'name': 13}, {'name': 14}, {'name': 15}, {'name': 16}, {'name': 17}, {'name': 18}, {'name': 19}]\n"
     ]
    }
   ],
   "source": [
    "lst=[]\n",
    "for i in range(20):\n",
    "    dict={}#这里说明dict是一个字典，然后利用的下面的方法对字典进行填充\n",
    "    dict['name']=i\n",
    "    lst.append(dict)\n",
    "print(lst)"
   ]
  },
  {
   "cell_type": "markdown",
   "metadata": {},
   "source": [
    "上面是一个十分重要的数据结构，利用这个数据结构就可以很容易地生成json数组了！如果想要更改每个key的名字的话，则可以使用："
   ]
  },
  {
   "cell_type": "code",
   "execution_count": 23,
   "metadata": {},
   "outputs": [
    {
     "name": "stdout",
     "output_type": "stream",
     "text": [
      "[{'hhh0': 10}, {'name': 0}, {'hhh1': 11}, {'name': 1}, {'hhh2': 12}, {'name': 2}, {'hhh3': 13}, {'name': 3}, {'hhh4': 14}, {'name': 4}, {'hhh5': 15}, {'name': 5}, {'hhh6': 16}, {'name': 6}, {'hhh7': 17}, {'name': 7}, {'hhh8': 18}, {'name': 8}, {'hhh9': 19}, {'name': 9}, {'hhh10': 20}, {'name': 10}, {'hhh11': 21}, {'name': 11}, {'hhh12': 22}, {'name': 12}, {'hhh13': 23}, {'name': 13}, {'hhh14': 24}, {'name': 14}, {'hhh15': 25}, {'name': 15}, {'hhh16': 26}, {'name': 16}, {'hhh17': 27}, {'name': 17}, {'hhh18': 28}, {'name': 18}, {'hhh19': 29}, {'name': 19}] []\n"
     ]
    }
   ],
   "source": [
    "lst=[]\n",
    "lst2=[]\n",
    "for i in range(20):\n",
    "    dict={}#这里说明dict是一个字典，然后利用的下面的方法对字典进行填充\n",
    "    dict2={}\n",
    "    dict['name']=i\n",
    "    dict2['hhh%i'%i]=10+i\n",
    "    lst.append(dict2)\n",
    "    lst.append(dict)\n",
    "print(lst,lst2)"
   ]
  },
  {
   "cell_type": "code",
   "execution_count": null,
   "metadata": {},
   "outputs": [],
   "source": []
  },
  {
   "cell_type": "code",
   "execution_count": null,
   "metadata": {},
   "outputs": [],
   "source": []
  }
 ],
 "metadata": {
  "kernelspec": {
   "display_name": "Python 3",
   "language": "python",
   "name": "python3"
  },
  "language_info": {
   "codemirror_mode": {
    "name": "ipython",
    "version": 3
   },
   "file_extension": ".py",
   "mimetype": "text/x-python",
   "name": "python",
   "nbconvert_exporter": "python",
   "pygments_lexer": "ipython3",
   "version": "3.6.8"
  }
 },
 "nbformat": 4,
 "nbformat_minor": 2
}
