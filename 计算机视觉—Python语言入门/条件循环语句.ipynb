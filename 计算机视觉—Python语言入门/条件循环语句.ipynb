{
 "cells": [
  {
   "cell_type": "code",
   "execution_count": 1,
   "metadata": {},
   "outputs": [
    {
     "name": "stdout",
     "output_type": "stream",
     "text": [
      "我是一个大傻子\n",
      "我是一个大傻子\n",
      "我是一个大傻子\n",
      "我是一个大傻子\n",
      "我是一个大傻子\n"
     ]
    }
   ],
   "source": [
    "for i in range(5):\n",
    "    print(\"我是一个大傻子\")"
   ]
  },
  {
   "cell_type": "code",
   "execution_count": 4,
   "metadata": {},
   "outputs": [
    {
     "name": "stdout",
     "output_type": "stream",
     "text": [
      "1\n",
      "2\n",
      "3\n",
      "4\n",
      "5\n",
      "6\n",
      "7\n",
      "8\n",
      "11\n",
      "90909090\n"
     ]
    }
   ],
   "source": [
    "#下面展示遍历序列\n",
    "list=[1,2,3,4,5,6,7,8,11,90909090]\n",
    "for i in list:\n",
    "    print(i)\n",
    "    "
   ]
  },
  {
   "cell_type": "code",
   "execution_count": 5,
   "metadata": {},
   "outputs": [],
   "source": [
    "#遍历序列的的第二种方法："
   ]
  },
  {
   "cell_type": "code",
   "execution_count": 11,
   "metadata": {},
   "outputs": [
    {
     "name": "stdout",
     "output_type": "stream",
     "text": [
      "0\n",
      "1\n",
      "2\n",
      "3\n",
      "4\n",
      "5\n",
      "6\n",
      "7\n",
      "8\n",
      "9\n",
      "\n",
      "\n",
      "1\n",
      "2\n",
      "3\n",
      "4\n",
      "5\n",
      "6\n",
      "7\n",
      "8\n",
      "11\n",
      "90909090\n"
     ]
    }
   ],
   "source": [
    "list=[1,2,3,4,5,6,7,8,11,90909090]\n",
    "for i in range(len(list)):\n",
    "    print(i)\n",
    "print(\"\\n\")\n",
    "for i in range(len(list)):\n",
    "    print(list[i])"
   ]
  },
  {
   "cell_type": "code",
   "execution_count": 12,
   "metadata": {},
   "outputs": [
    {
     "name": "stdout",
     "output_type": "stream",
     "text": [
      "20\n",
      "24\n",
      "69\n"
     ]
    }
   ],
   "source": [
    "dict={'爸爸':20,\"小明\":24,\"妈妈\":69}\n",
    "for key in dict:\n",
    "    print(dict[key])#这里用到了字典的遍历"
   ]
  },
  {
   "cell_type": "code",
   "execution_count": 20,
   "metadata": {},
   "outputs": [
    {
     "name": "stdout",
     "output_type": "stream",
     "text": [
      "爸爸:20\n",
      "小明:24\n",
      "妈妈:69\n"
     ]
    }
   ],
   "source": [
    "dict={'爸爸':'20',\"小明\":'24',\"妈妈\":'69'}\n",
    "for key in dict:\n",
    "    print(key + ':' + dict[key])#这里用到了字典的遍历,用这种方法后面的value必须也是字符串而不能是int,我并不知道这是为什么？？？前面的例子都是可以的"
   ]
  },
  {
   "cell_type": "code",
   "execution_count": 21,
   "metadata": {},
   "outputs": [
    {
     "name": "stdout",
     "output_type": "stream",
     "text": [
      "爸爸:20\n",
      "小明:24\n",
      "妈妈:69\n"
     ]
    }
   ],
   "source": [
    "dict={'爸爸':'20',\"小明\":'24',\"妈妈\":'69'}\n",
    "for value in dict:\n",
    "    print(value + ':' + dict[value])"
   ]
  },
  {
   "cell_type": "code",
   "execution_count": 22,
   "metadata": {},
   "outputs": [
    {
     "name": "stdout",
     "output_type": "stream",
     "text": [
      "爸爸\n",
      "小明\n",
      "妈妈\n"
     ]
    }
   ],
   "source": [
    "dict={'爸爸':'20',\"小明\":'24',\"妈妈\":'69'}\n",
    "for value in dict:\n",
    "    print(value)#遍历key的值，果然不出所料"
   ]
  },
  {
   "cell_type": "code",
   "execution_count": null,
   "metadata": {},
   "outputs": [],
   "source": []
  }
 ],
 "metadata": {
  "kernelspec": {
   "display_name": "Python 3",
   "language": "python",
   "name": "python3"
  },
  "language_info": {
   "codemirror_mode": {
    "name": "ipython",
    "version": 3
   },
   "file_extension": ".py",
   "mimetype": "text/x-python",
   "name": "python",
   "nbconvert_exporter": "python",
   "pygments_lexer": "ipython3",
   "version": "3.6.8"
  }
 },
 "nbformat": 4,
 "nbformat_minor": 2
}
